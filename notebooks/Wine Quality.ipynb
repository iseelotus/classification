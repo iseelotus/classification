{
 "cells": [
  {
   "cell_type": "code",
   "execution_count": 1,
   "metadata": {
    "collapsed": true
   },
   "outputs": [],
   "source": [
    "import pandas as pd\n",
    "%matplotlib inline\n",
    "import matplotlib.pyplot as plt\n",
    "from sklearn.model_selection import RandomizedSearchCV\n",
    "\n",
    "from sklearn.model_selection import train_test_split\n",
    "\n",
    "import seaborn as sns\n",
    "import matplotlib.pyplot as plt\n",
    "import numpy as np\n",
    "\n",
    "from sklearn.svm import SVC\n",
    "from sklearn.linear_model import SGDClassifier\n",
    "from sklearn.neighbors import KNeighborsClassifier\n",
    "from sklearn.tree import DecisionTreeClassifier\n",
    "from sklearn.neural_network import MLPClassifier\n",
    "from sklearn.naive_bayes import GaussianNB\n",
    "\n",
    "from sklearn.preprocessing import RobustScaler\n",
    "from time import time"
   ]
  },
  {
   "cell_type": "code",
   "execution_count": 2,
   "metadata": {
    "collapsed": true
   },
   "outputs": [],
   "source": [
    "df = pd.read_csv('http://archive.ics.uci.edu/ml/machine-learning-databases/wine-quality/winequality-red.csv ' , sep = ';')"
   ]
  },
  {
   "cell_type": "code",
   "execution_count": 3,
   "metadata": {
    "collapsed": true,
    "scrolled": true
   },
   "outputs": [],
   "source": [
    "features = df.drop('quality', 1).values\n",
    "def isGood(quality):\n",
    "    if quality >= 6:\n",
    "        return 1\n",
    "    else:\n",
    "        return 0\n",
    "df['binary_quality'] = df['quality'].apply(isGood)\n",
    "label = df['binary_quality'].values"
   ]
  },
  {
   "cell_type": "code",
   "execution_count": 4,
   "metadata": {
    "collapsed": true
   },
   "outputs": [],
   "source": [
    "X_train, X_test, y_train, y_test = train_test_split(features, label, test_size=0.2, random_state=42, stratify=label)"
   ]
  },
  {
   "cell_type": "code",
   "execution_count": 5,
   "metadata": {
    "collapsed": true,
    "scrolled": true
   },
   "outputs": [],
   "source": [
    "# Now we rescale the feature values\n",
    "scaler = RobustScaler()\n",
    "# Fit only to the training data, then apply the transformations to the data\n",
    "scaler.fit(X_train)\n",
    "X_train = scaler.transform(X_train)\n",
    "X_test = scaler.transform(X_test)"
   ]
  },
  {
   "cell_type": "code",
   "execution_count": 6,
   "metadata": {
    "collapsed": true
   },
   "outputs": [],
   "source": [
    "def random_grid_search_result(random_search, n_iter_search):\n",
    "    start = time()\n",
    "    random_search.fit(X_train, y_train)\n",
    "    print(\"RandomizedSearchCV took %.2f seconds for %d candidates\"\n",
    "      \" parameter settings.\" % ((time() - start), n_iter_search))\n",
    "    print(random_search.best_score_)\n",
    "    print(random_search.best_params_)\n",
    "    best_clf = random_search.best_estimator_\n",
    "    best_clf.fit(X_train, y_train)\n",
    "    predicted = best_clf.predict(X_test)\n",
    "    print(\"Accuracy \"+ \" : \"+str(np.mean(predicted == y_test)))"
   ]
  },
  {
   "cell_type": "code",
   "execution_count": null,
   "metadata": {
    "collapsed": true
   },
   "outputs": [],
   "source": [
    "def random_grid_search_knn():\n",
    "    # Distribution of hyperparameter\n",
    "    param_dist = {\"n_neighbors\": list(range(1, 31)),\n",
    "                  \"weights\": ['uniform', 'distance'],\n",
    "                  \"algorithm\": ['auto', 'ball_tree', 'kd_tree', 'brute'],\n",
    "                  \"leaf_size\":list(range(15, 45)),\n",
    "                  \"metric\":['euclidean', 'manhattan', 'chebyshev'],\n",
    "                  \"n_jobs\": [-1, 1]\n",
    "                 }\n",
    "    clf = KNeighborsClassifier()\n",
    "    n_iter_search = 60\n",
    "    random_search = RandomizedSearchCV(clf, param_distributions=param_dist,\n",
    "                                   n_iter=n_iter_search, random_state=42)\n",
    "    random_grid_search_result(random_search, n_iter_search)\n",
    "    \n",
    "random_grid_search_knn()"
   ]
  },
  {
   "cell_type": "code",
   "execution_count": null,
   "metadata": {
    "collapsed": true
   },
   "outputs": [],
   "source": [
    "def random_grid_search_svm():\n",
    "    # Distribution of hyperparameter\n",
    "    param_dist = {'C': 10. ** np.arange(-3, 8), \n",
    "                  'gamma': 10. ** np.arange(-5, 4)\n",
    "                 }\n",
    "    clf = SVC()\n",
    "    n_iter_search = 60\n",
    "    random_search = RandomizedSearchCV(clf, param_distributions=param_dist,\n",
    "                                   n_iter=n_iter_search, random_state=42)\n",
    "    random_grid_search_result(random_search, n_iter_search)\n",
    "    \n",
    "random_grid_search_svm()"
   ]
  },
  {
   "cell_type": "code",
   "execution_count": null,
   "metadata": {},
   "outputs": [],
   "source": [
    "def random_grid_search_decision_tree():\n",
    "    # Distribution of hyperparameter\n",
    "    param_dist = {\"criterion\": [\"gini\", \"entropy\"],\n",
    "                  \"min_samples_split\": list(range(2, 80)),\n",
    "                  \"max_depth\": [None, 1, 5, 10, 1000, 1500],\n",
    "                  \"min_samples_leaf\": [1, 5, 10],\n",
    "                  \"max_leaf_nodes\": [None, 5, 10, 20, 100, 1000],\n",
    "                 }\n",
    "    clf = DecisionTreeClassifier(random_state=42)\n",
    "    n_iter_search = 60\n",
    "    random_search = RandomizedSearchCV(clf, param_distributions=param_dist,\n",
    "                                   n_iter=n_iter_search, random_state=42)\n",
    "    random_grid_search_result(random_search, n_iter_search)\n",
    "    \n",
    "random_grid_search_decision_tree()"
   ]
  },
  {
   "cell_type": "code",
   "execution_count": 12,
   "metadata": {},
   "outputs": [
    {
     "name": "stdout",
     "output_type": "stream",
     "text": [
      "RandomizedSearchCV took 49.27 seconds for 60 candidates parameter settings.\n",
      "0.755277560594\n",
      "{'solver': 'adam', 'max_iter': 1000, 'learning_rate_init': 0.05, 'hidden_layer_sizes': 5, 'alpha': 0.10000000000000001, 'activation': 'logistic'}\n",
      "Accuracy  : 0.75\n"
     ]
    }
   ],
   "source": [
    "def random_grid_search_ann():\n",
    "    # Distribution of hyperparameter\n",
    "    param_dist = {'hidden_layer_sizes':np.arange(5, 12),\n",
    "                  'activation' : ['identity', 'logistic', 'tanh', 'relu'],\n",
    "                  'solver' : ['lbfgs', 'sgd', 'adam'],\n",
    "                  'learning_rate_init':[0.005,0.05,0.001],\n",
    "                  'max_iter': [500,1000,1500], \n",
    "                  'alpha': 10.0 ** -np.arange(1, 7),\n",
    "                 }\n",
    "    clf = MLPClassifier(random_state=42)\n",
    "    n_iter_search = 60\n",
    "    random_search = RandomizedSearchCV(clf, param_distributions=param_dist,\n",
    "                                   n_iter=n_iter_search)\n",
    "    random_grid_search_result(random_search, n_iter_search)\n",
    "    \n",
    "random_grid_search_ann()"
   ]
  },
  {
   "cell_type": "code",
   "execution_count": 7,
   "metadata": {
    "collapsed": true
   },
   "outputs": [],
   "source": [
    "dict_classifiers = {\n",
    "    \"Nearest Neighbors\": KNeighborsClassifier(),\n",
    "    \"SVC\":SVC(random_state=42),\n",
    "    \"Decision Tree\": DecisionTreeClassifier(random_state=42),\n",
    "    \"Naive Bayes\": GaussianNB(),\n",
    "    \"Neural Net\": MLPClassifier(random_state=42)\n",
    "}"
   ]
  },
  {
   "cell_type": "code",
   "execution_count": 8,
   "metadata": {},
   "outputs": [
    {
     "name": "stdout",
     "output_type": "stream",
     "text": [
      "Accuracy of Nearest Neighbors : 0.725\n",
      "Training time of Nearest Neighbors : 0.0031719207763671875\n",
      "Testing time of Nearest Neighbors : 0.010621786117553711\n",
      "Accuracy of SVC : 0.74375\n",
      "Training time of SVC : 0.05344796180725098\n",
      "Testing time of SVC : 0.0069789886474609375\n",
      "Accuracy of Decision Tree : 0.75625\n",
      "Training time of Decision Tree : 0.008275985717773438\n",
      "Testing time of Decision Tree : 0.0001628398895263672\n",
      "Accuracy of Naive Bayes : 0.721875\n",
      "Training time of Naive Bayes : 0.0019431114196777344\n",
      "Testing time of Naive Bayes : 0.0003120899200439453\n",
      "Accuracy of Neural Net : 0.74375\n",
      "Training time of Neural Net : 1.3418009281158447\n",
      "Testing time of Neural Net : 0.0009109973907470703\n"
     ]
    },
    {
     "name": "stderr",
     "output_type": "stream",
     "text": [
      "/Users/yankangli/anaconda3/lib/python3.6/site-packages/sklearn/neural_network/multilayer_perceptron.py:564: ConvergenceWarning: Stochastic Optimizer: Maximum iterations (200) reached and the optimization hasn't converged yet.\n",
      "  % self.max_iter, ConvergenceWarning)\n"
     ]
    }
   ],
   "source": [
    "for name, classifier in dict_classifiers.items():\n",
    "    start_training = time()\n",
    "    clf = classifier.fit(X_train, y_train)\n",
    "    end_training = time()\n",
    "    start_testing = time()\n",
    "    predicted = clf.predict(X_test)\n",
    "    end_testing = time()\n",
    "    print(\"Accuracy of \"+ name + \" : \"+str(np.mean(predicted == y_test)))\n",
    "    print(\"Training time of \"+ name + \" : \"+str(end_training - start_training))\n",
    "    print(\"Testing time of \"+ name + \" : \"+str(end_testing - start_testing))"
   ]
  },
  {
   "cell_type": "code",
   "execution_count": null,
   "metadata": {
    "collapsed": true
   },
   "outputs": [],
   "source": [
    "# Histogram\n",
    "pd.DataFrame.hist(df, figsize = [15,15]);"
   ]
  },
  {
   "cell_type": "code",
   "execution_count": null,
   "metadata": {
    "collapsed": true
   },
   "outputs": [],
   "source": [
    "# Correlation graph\n",
    "plt.style.use('ggplot')\n",
    "correlation_matrix = df.corr()\n",
    "plt.figure(figsize=(10,8))\n",
    "ax = sns.heatmap(correlation_matrix, vmax=1, square=True,annot=True,cmap='coolwarm')\n",
    "plt.show()"
   ]
  },
  {
   "cell_type": "code",
   "execution_count": null,
   "metadata": {
    "collapsed": true,
    "scrolled": true
   },
   "outputs": [],
   "source": [
    "%%time\n",
    "from sklearn import neighbors, linear_model\n",
    "knn = neighbors.KNeighborsClassifier(n_neighbors = 3)\n",
    "knn_model = knn.fit(X_train, y_train)\n",
    "print('k-NN accuracy for test set: %f' % knn_model.score(X_test, y_test))"
   ]
  },
  {
   "cell_type": "code",
   "execution_count": null,
   "metadata": {
    "collapsed": true,
    "scrolled": false
   },
   "outputs": [],
   "source": [
    "%%time\n",
    "# SVM\n",
    "from sklearn import svm\n",
    "svm_model = svm.SVC()\n",
    "svm_model.fit(X_train, y_train)\n",
    "print('SVM accuracy for test set: %f' % svm_model.score(X_test, y_test))"
   ]
  },
  {
   "cell_type": "code",
   "execution_count": null,
   "metadata": {
    "collapsed": true
   },
   "outputs": [],
   "source": [
    "X_train"
   ]
  },
  {
   "cell_type": "code",
   "execution_count": null,
   "metadata": {
    "collapsed": true
   },
   "outputs": [],
   "source": [
    "%%time\n",
    "from sklearn import neighbors, linear_model\n",
    "\n",
    "knn = neighbors.KNeighborsClassifier(n_neighbors = 3)\n",
    "knn_model = knn.fit(X_train, y_train)\n",
    "print('k-NN accuracy for test set after rescaling: %f' % knn_model.score(X_test, y_test))"
   ]
  },
  {
   "cell_type": "code",
   "execution_count": null,
   "metadata": {
    "collapsed": true,
    "scrolled": true
   },
   "outputs": [],
   "source": [
    "from sklearn.metrics import classification_report\n",
    "y_true, y_pred = y_test, knn_model.predict(X_test)\n",
    "print(classification_report(y_true, y_pred))"
   ]
  },
  {
   "cell_type": "code",
   "execution_count": null,
   "metadata": {
    "collapsed": true
   },
   "outputs": [],
   "source": [
    "%%time\n",
    "# SVM\n",
    "from sklearn import svm\n",
    "svm_model = svm.SVC()\n",
    "svm_model.fit(X_train, y_train)\n",
    "print('Linear SVM accuracy for test set after rescaling: %f' % svm_model.score(X_test, y_test))"
   ]
  },
  {
   "cell_type": "code",
   "execution_count": null,
   "metadata": {
    "collapsed": true,
    "scrolled": false
   },
   "outputs": [],
   "source": [
    "from sklearn.metrics import classification_report\n",
    "y_true, y_pred = y_test, svm_model.predict(X_test)\n",
    "print(classification_report(y_true, y_pred))"
   ]
  },
  {
   "cell_type": "code",
   "execution_count": null,
   "metadata": {
    "collapsed": true
   },
   "outputs": [],
   "source": [
    "%%time\n",
    "# Nonlinear SVM\n",
    "from sklearn.pipeline import Pipeline\n",
    "from sklearn.preprocessing import PolynomialFeatures, StandardScaler\n",
    "from sklearn.svm import LinearSVC\n",
    "\n",
    "polynomial_svm_model = Pipeline((\n",
    "    (\"poly_features\", PolynomialFeatures(degree=3)),\n",
    "    (\"scaler\", StandardScaler()),\n",
    "    (\"svm_clf\",LinearSVC(C=10, loss=\"hinge\"))))\n",
    "polynomial_svm_model.fit(X_train, y_train)\n",
    "print('Nonlinear SVM accuracy for test set: %f' % polynomial_svm_model.score(X_test, y_test))"
   ]
  },
  {
   "cell_type": "code",
   "execution_count": null,
   "metadata": {
    "collapsed": true
   },
   "outputs": [],
   "source": [
    "from sklearn.metrics import classification_report\n",
    "y_true, y_pred = y_test, polynomial_svm_model.predict(X_test)\n",
    "print(classification_report(y_true, y_pred))"
   ]
  },
  {
   "cell_type": "code",
   "execution_count": null,
   "metadata": {
    "collapsed": true
   },
   "outputs": [],
   "source": [
    "%%time\n",
    "# Decision Tree\n",
    "from sklearn.tree import DecisionTreeClassifier\n",
    "\n",
    "tree_model = DecisionTreeClassifier(max_depth=2)\n",
    "tree_model.fit(X_train, y_train)\n",
    "print('Decision Tree accuracy for test set: %f' % tree_model.score(X_test, y_test))"
   ]
  },
  {
   "cell_type": "code",
   "execution_count": null,
   "metadata": {
    "collapsed": true
   },
   "outputs": [],
   "source": [
    "from sklearn.tree import export_graphviz\n",
    "\n",
    "export_graphviz(tree_model,\n",
    "                out_file=None,\n",
    "                class_names=['0','1'])"
   ]
  },
  {
   "cell_type": "code",
   "execution_count": null,
   "metadata": {
    "collapsed": true
   },
   "outputs": [],
   "source": [
    "# Plot the relationship between tree depths and prediction power\n",
    "depth = []\n",
    "accuracy = []\n",
    "for x in range(1, 200):\n",
    "    depth.append(x)\n",
    "    tree_model = DecisionTreeClassifier(max_depth=x)\n",
    "    tree_model.fit(X_train, y_train)\n",
    "    accu = tree_model.score(X_test, y_test)\n",
    "    accuracy.append(accu)\n",
    "    plt.xlabel(\"Depth\", fontsize=14)\n",
    "    plt.ylabel(\"Accuracy\", fontsize=14)\n",
    "plt.plot(depth, accuracy)\n",
    "plt.show()"
   ]
  },
  {
   "cell_type": "code",
   "execution_count": null,
   "metadata": {
    "collapsed": true
   },
   "outputs": [],
   "source": [
    "%%time\n",
    "# Naive Bayes\n",
    "from sklearn.naive_bayes import GaussianNB\n",
    "nb_model = GaussianNB()\n",
    "nb_model.fit(X_train, y_train)\n",
    "print('Naive Bayes accuracy for test set: %f' % nb_model.score(X_test, y_test))"
   ]
  },
  {
   "cell_type": "code",
   "execution_count": null,
   "metadata": {
    "collapsed": true
   },
   "outputs": [],
   "source": [
    "from sklearn.naive_bayes import MultinomialNB\n",
    "nb_model = MultinomialNB()\n",
    "nb_model.fit(X_train, y_train)\n",
    "print('Naive Bayes accuracy for test set: %f' % nb_model.score(X_test, y_test))"
   ]
  },
  {
   "cell_type": "code",
   "execution_count": null,
   "metadata": {
    "collapsed": true
   },
   "outputs": [],
   "source": [
    "from sklearn.naive_bayes import BernoulliNB\n",
    "nb_model = BernoulliNB()\n",
    "nb_model.fit(X_train, y_train)\n",
    "print('Naive Bayes accuracy for test set: %f' % nb_model.score(X_test, y_test))"
   ]
  },
  {
   "cell_type": "code",
   "execution_count": null,
   "metadata": {
    "collapsed": true
   },
   "outputs": [],
   "source": [
    "%%time\n",
    "# Neural Network\n",
    "from sklearn.neural_network import MLPClassifier\n",
    "mlp_model = MLPClassifier(hidden_layer_sizes=(13,13,13),max_iter=500)\n",
    "mlp_model.fit(X_train, y_train)\n",
    "print('Neural Network accuracy for test set: %f' % mlp_model.score(X_test, y_test))"
   ]
  },
  {
   "cell_type": "code",
   "execution_count": null,
   "metadata": {
    "collapsed": true
   },
   "outputs": [],
   "source": [
    "%%time\n",
    "from sklearn.neural_network import MLPClassifier\n",
    "from sklearn.metrics import classification_report,confusion_matrix\n",
    "\n",
    "mlp_model = MLPClassifier(hidden_layer_sizes=(10,10),solver='sgd',learning_rate_init=0.1,max_iter=500, random_state=42)\n",
    "mlp_model.fit(X_train, y_train)\n",
    "print('Neural Network accuracy for test set: %f' % mlp_model.score(X_test, y_test))"
   ]
  },
  {
   "cell_type": "code",
   "execution_count": null,
   "metadata": {
    "scrolled": false
   },
   "outputs": [],
   "source": [
    "# Left out\n",
    "\n",
    "\n",
    "def random_grid_search_naive_bayes():\n",
    "    # Distribution of hyperparameter\n",
    "    param_dist = {'priors':[[0.1,0.9], [0.9,0.1]]\n",
    "                 }\n",
    "    clf = GaussianNB()\n",
    "    n_iter_search = 2\n",
    "    random_search = RandomizedSearchCV(clf, param_distributions=param_dist,\n",
    "                                   n_iter=n_iter_search)\n",
    "    random_grid_search_result(random_search, n_iter_search)\n",
    "    \n",
    "random_grid_search_naive_bayes()"
   ]
  },
  {
   "cell_type": "code",
   "execution_count": null,
   "metadata": {
    "collapsed": true
   },
   "outputs": [],
   "source": []
  },
  {
   "cell_type": "code",
   "execution_count": null,
   "metadata": {
    "collapsed": true
   },
   "outputs": [],
   "source": []
  }
 ],
 "metadata": {
  "kernelspec": {
   "display_name": "Python 3",
   "language": "python",
   "name": "python3"
  },
  "language_info": {
   "codemirror_mode": {
    "name": "ipython",
    "version": 3
   },
   "file_extension": ".py",
   "mimetype": "text/x-python",
   "name": "python",
   "nbconvert_exporter": "python",
   "pygments_lexer": "ipython3",
   "version": "3.6.3"
  }
 },
 "nbformat": 4,
 "nbformat_minor": 2
}
