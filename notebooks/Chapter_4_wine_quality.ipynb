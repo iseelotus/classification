{
 "cells": [
  {
   "cell_type": "code",
   "execution_count": 1,
   "metadata": {
    "collapsed": true
   },
   "outputs": [],
   "source": [
    "import pandas as pd\n",
    "%matplotlib inline\n",
    "import matplotlib.pyplot as plt\n",
    "from sklearn.model_selection import RandomizedSearchCV\n",
    "\n",
    "from sklearn.model_selection import train_test_split\n",
    "\n",
    "import seaborn as sns\n",
    "import matplotlib.pyplot as plt\n",
    "import numpy as np\n",
    "\n",
    "from sklearn.svm import SVC, LinearSVC, NuSVC\n",
    "from sklearn.linear_model import SGDClassifier\n",
    "from sklearn.neighbors import KNeighborsClassifier\n",
    "from sklearn.tree import DecisionTreeClassifier\n",
    "from sklearn.neural_network import MLPClassifier\n",
    "from sklearn.naive_bayes import GaussianNB, MultinomialNB, BernoulliNB\n",
    "\n",
    "from sklearn.preprocessing import RobustScaler, PolynomialFeatures, StandardScaler\n",
    "from time import time\n",
    "from sklearn.metrics import classification_report\n",
    "\n",
    "from sklearn.pipeline import Pipeline"
   ]
  },
  {
   "cell_type": "code",
   "execution_count": 2,
   "metadata": {
    "collapsed": true
   },
   "outputs": [],
   "source": [
    "df = pd.read_csv('http://archive.ics.uci.edu/ml/machine-learning-databases/wine-quality/winequality-red.csv ' , sep = ';')\n",
    "\n",
    "# Drop the three most irrelevant features\n",
    "\n",
    "features = df.drop('quality', 1).values\n",
    "def isGood(quality):\n",
    "    if quality >= 6:\n",
    "        return 1\n",
    "    else:\n",
    "        return 0\n",
    "df['binary_quality'] = df['quality'].apply(isGood)\n",
    "label = df['binary_quality'].values"
   ]
  },
  {
   "cell_type": "code",
   "execution_count": 3,
   "metadata": {
    "collapsed": true
   },
   "outputs": [],
   "source": [
    "X_train, X_test, y_train, y_test = train_test_split(features, label, test_size=0.2, random_state=42, stratify=label)"
   ]
  },
  {
   "cell_type": "code",
   "execution_count": 7,
   "metadata": {
    "collapsed": true
   },
   "outputs": [],
   "source": [
    "def rescale():\n",
    "    global X_train, X_test\n",
    "    scaler = RobustScaler()\n",
    "    # Fit only to the training data, then apply the transformations to the data\n",
    "    scaler.fit(X_train)\n",
    "    X_train = scaler.transform(X_train)\n",
    "    X_test = scaler.transform(X_test)"
   ]
  },
  {
   "cell_type": "code",
   "execution_count": null,
   "metadata": {
    "collapsed": true
   },
   "outputs": [],
   "source": [
    "knn = KNeighborsClassifier(n_neighbors = 3)\n",
    "knn_model = knn.fit(X_train, y_train)"
   ]
  },
  {
   "cell_type": "code",
   "execution_count": null,
   "metadata": {
    "collapsed": true
   },
   "outputs": [],
   "source": [
    "print('k-NN accuracy for test set before rescaling: %f' % knn_model.score(X_test, y_test))"
   ]
  },
  {
   "cell_type": "code",
   "execution_count": null,
   "metadata": {
    "collapsed": true
   },
   "outputs": [],
   "source": [
    "scaler = RobustScaler()\n",
    "# Fit only to the training data, then apply the transformations to the data\n",
    "scaler.fit(X_train)\n",
    "X_train = scaler.transform(X_train)\n",
    "X_test = scaler.transform(X_test)"
   ]
  },
  {
   "cell_type": "code",
   "execution_count": null,
   "metadata": {
    "collapsed": true
   },
   "outputs": [],
   "source": [
    "knn = KNeighborsClassifier(n_neighbors = 3)\n",
    "knn_model = knn.fit(X_train, y_train)\n",
    "print('k-NN accuracy for test set after rescaling: %f' % knn_model.score(X_test, y_test))"
   ]
  },
  {
   "cell_type": "code",
   "execution_count": null,
   "metadata": {
    "collapsed": true
   },
   "outputs": [],
   "source": [
    "y_true, y_pred = y_test, knn_model.predict(X_test)\n",
    "print(classification_report(y_true, y_pred))"
   ]
  },
  {
   "cell_type": "code",
   "execution_count": null,
   "metadata": {
    "collapsed": true
   },
   "outputs": [],
   "source": [
    "svm_model = SVC()\n",
    "svm_model.fit(X_train, y_train)"
   ]
  },
  {
   "cell_type": "code",
   "execution_count": null,
   "metadata": {
    "collapsed": true,
    "scrolled": false
   },
   "outputs": [],
   "source": [
    "print(\"SVM accuracy: \"+str(svm_model.score(X_test, y_test)))"
   ]
  },
  {
   "cell_type": "code",
   "execution_count": null,
   "metadata": {
    "collapsed": true
   },
   "outputs": [],
   "source": [
    "# Without Rescaling\n",
    "X_train, X_test, y_train, y_test = train_test_split(features, label, test_size=0.2, random_state=42, stratify=label)\n",
    "svm_model = SVC()\n",
    "svm_model.fit(X_train, y_train)\n",
    "print(\"SVM accuracy without rescaling: \"+str(svm_model.score(X_test, y_test)))"
   ]
  },
  {
   "cell_type": "code",
   "execution_count": null,
   "metadata": {
    "collapsed": true
   },
   "outputs": [],
   "source": [
    "polynomial_svm_model = Pipeline((\n",
    "    (\"poly_features\", PolynomialFeatures(degree=2)),\n",
    "    (\"scaler\", StandardScaler()),\n",
    "    (\"svm_clf\",LinearSVC())))\n",
    "polynomial_svm_model.fit(X_train, y_train)\n",
    "print(\"2-dimensional Nonlinear SVM accuracy: \"+str(polynomial_svm_model.score(X_test, y_test)))"
   ]
  },
  {
   "cell_type": "code",
   "execution_count": null,
   "metadata": {
    "collapsed": true
   },
   "outputs": [],
   "source": [
    "polynomial_svm_model = Pipeline((\n",
    "    (\"poly_features\", PolynomialFeatures(degree=5)),\n",
    "    (\"scaler\", StandardScaler()),\n",
    "    (\"svm_clf\",LinearSVC())))\n",
    "polynomial_svm_model.fit(X_train, y_train)\n",
    "print(\"3-dimensional Nonlinear SVM accuracy: \"+str(polynomial_svm_model.score(X_test, y_test)))"
   ]
  },
  {
   "cell_type": "code",
   "execution_count": null,
   "metadata": {
    "collapsed": true
   },
   "outputs": [],
   "source": [
    "polynomial_svm_model = Pipeline((\n",
    "    (\"scaler\", StandardScaler()),\n",
    "    (\"svm_clf\",SVC(kernel=\"poly\", degree=3))))\n",
    "polynomial_svm_model.fit(X_train, y_train)\n",
    "print(\"3-dimensional SVM with polynomial kernel accuracy: \"+str(polynomial_svm_model.score(X_test, y_test)))"
   ]
  },
  {
   "cell_type": "code",
   "execution_count": null,
   "metadata": {
    "collapsed": true
   },
   "outputs": [],
   "source": [
    "polynomial_svm_model = Pipeline((\n",
    "    (\"scaler\", StandardScaler()),\n",
    "    (\"svm_clf\",SVC(kernel=\"poly\", degree=5))))\n",
    "polynomial_svm_model.fit(X_train, y_train)\n",
    "print(\"5-dimensional SVM with polynomial kernel accuracy: \"+str(polynomial_svm_model.score(X_test, y_test)))"
   ]
  },
  {
   "cell_type": "code",
   "execution_count": null,
   "metadata": {
    "collapsed": true
   },
   "outputs": [],
   "source": [
    "# Plot the relationship between tree depths and prediction power\n",
    "dimension = []\n",
    "accuracy = []\n",
    "for x in range(1, 10):\n",
    "    dimension.append(x)\n",
    "    polynomial_svm_model = Pipeline((\n",
    "        (\"scaler\", StandardScaler()),\n",
    "        (\"svm_clf\",SVC(kernel=\"poly\", degree=x))))\n",
    "    polynomial_svm_model.fit(X_train, y_train)\n",
    "    accu = polynomial_svm_model.score(X_test, y_test)\n",
    "    accuracy.append(accu)\n",
    "    plt.xlabel(\"Dimension\", fontsize=14)\n",
    "    plt.ylabel(\"Accuracy\", fontsize=14)\n",
    "plt.plot(dimension, accuracy)\n",
    "plt.show()"
   ]
  },
  {
   "cell_type": "code",
   "execution_count": null,
   "metadata": {
    "collapsed": true
   },
   "outputs": [],
   "source": [
    "# Plot the relationship between tree depths and prediction power\n",
    "depth = []\n",
    "accuracy = []\n",
    "for x in range(1, 200):\n",
    "    depth.append(x)\n",
    "    tree_model = DecisionTreeClassifier(max_depth=x)\n",
    "    tree_model.fit(X_train, y_train)\n",
    "    accu = tree_model.score(X_test, y_test)\n",
    "    accuracy.append(accu)\n",
    "    plt.xlabel(\"Depth\", fontsize=14)\n",
    "    plt.ylabel(\"Accuracy\", fontsize=14)\n",
    "plt.plot(depth, accuracy)\n",
    "plt.show()"
   ]
  },
  {
   "cell_type": "code",
   "execution_count": null,
   "metadata": {
    "collapsed": true
   },
   "outputs": [],
   "source": [
    "# Naive Bayes: no rescaling to avoid negative values\n",
    "nb_model = GaussianNB()\n",
    "# nb_model = MultinomialNB()\n",
    "# nb_model = BernoulliNB()\n",
    "nb_model.fit(X_train, y_train)\n",
    "print('Naive Bayes accuracy for test set: %f' % nb_model.score(X_test, y_test))"
   ]
  },
  {
   "cell_type": "code",
   "execution_count": 8,
   "metadata": {},
   "outputs": [
    {
     "name": "stdout",
     "output_type": "stream",
     "text": [
      "Neural Network accuracy for test set: 0.762500\n"
     ]
    }
   ],
   "source": [
    "rescale()\n",
    "mlp_model = MLPClassifier(hidden_layer_sizes=(10,10),solver='sgd',learning_rate_init=0.1,max_iter=500, random_state=42)\n",
    "mlp_model.fit(X_train, y_train)\n",
    "print('Neural Network accuracy for test set: %f' % mlp_model.score(X_test, y_test))"
   ]
  },
  {
   "cell_type": "code",
   "execution_count": null,
   "metadata": {
    "collapsed": true
   },
   "outputs": [],
   "source": []
  }
 ],
 "metadata": {
  "kernelspec": {
   "display_name": "Python 3",
   "language": "python",
   "name": "python3"
  },
  "language_info": {
   "codemirror_mode": {
    "name": "ipython",
    "version": 3
   },
   "file_extension": ".py",
   "mimetype": "text/x-python",
   "name": "python",
   "nbconvert_exporter": "python",
   "pygments_lexer": "ipython3",
   "version": "3.6.3"
  }
 },
 "nbformat": 4,
 "nbformat_minor": 2
}
