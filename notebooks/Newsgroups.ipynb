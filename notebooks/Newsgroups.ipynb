{
 "cells": [
  {
   "cell_type": "code",
   "execution_count": 1,
   "metadata": {},
   "outputs": [],
   "source": [
    "import pandas as pd\n",
    "import numpy as np\n",
    "import seaborn as sns\n",
    "import matplotlib.pyplot as plt\n",
    "\n",
    "from sklearn.datasets import fetch_20newsgroups\n",
    "from sklearn.feature_extraction.text import CountVectorizer\n",
    "from sklearn.feature_extraction.text import TfidfTransformer\n",
    "from sklearn.pipeline import Pipeline\n",
    "\n",
    "from sklearn.svm import SVC\n",
    "from sklearn.linear_model import SGDClassifier\n",
    "from sklearn.neighbors import KNeighborsClassifier\n",
    "from sklearn import tree\n",
    "from sklearn.neural_network import MLPClassifier\n",
    "from sklearn.naive_bayes import MultinomialNB\n",
    "\n",
    "from sklearn.model_selection import GridSearchCV"
   ]
  },
  {
   "cell_type": "code",
   "execution_count": 2,
   "metadata": {
    "collapsed": true
   },
   "outputs": [],
   "source": [
    "newsgroup_train = fetch_20newsgroups(subset='train')\n",
    "newsgroup_test = fetch_20newsgroups(subset='test')\n",
    "X_train = newsgroup_train.data\n",
    "y_train = newsgroup_train.target\n",
    "X_test = newsgroup_test.data\n",
    "y_test = newsgroup_test.target"
   ]
  },
  {
   "cell_type": "code",
   "execution_count": 8,
   "metadata": {},
   "outputs": [],
   "source": [
    "dict_classifiers = {\n",
    "#    \"Nearest Neighbors\": KNeighborsClassifier(n_neighbors=5, weights='distance'),\n",
    "#    \"Linear SVM\": SGDClassifier(loss='hinge', penalty='l2',alpha=1e-3, max_iter=5, random_state=42)\n",
    "#    \"Decision Tree\": tree.DecisionTreeClassifier(),\n",
    "    \"Neural Net\": MLPClassifier(alpha = 1)\n",
    "#    \"Naive Bayes\": MultinomialNB()\n",
    "}"
   ]
  },
  {
   "cell_type": "code",
   "execution_count": 10,
   "metadata": {
    "scrolled": true
   },
   "outputs": [
    {
     "name": "stdout",
     "output_type": "stream",
     "text": [
      "Accuracy of Neural Net : 0.650690387679\n",
      "CPU times: user 21min 9s, sys: 5min 48s, total: 26min 58s\n",
      "Wall time: 21min 25s\n"
     ]
    }
   ],
   "source": [
    "%%time\n",
    "for name, classifier in dict_classifiers.items():\n",
    "    text_clf = Pipeline([('vect', CountVectorizer(stop_words='english')), ('tfidf', TfidfTransformer()), ('clf', classifier)])\n",
    "    text_clf = text_clf.fit(X_train, y_train)\n",
    "    predicted = text_clf.predict(X_test)\n",
    "    print(\"Accuracy of \"+ name + \" : \"+str(np.mean(predicted == y_test)))"
   ]
  },
  {
   "cell_type": "code",
   "execution_count": null,
   "metadata": {},
   "outputs": [],
   "source": [
    "# Grid Search \n",
    "\n",
    "#KNeighborsClassifier\n",
    "def knn_param_selection(X, y, nfolds):\n",
    "    n_neighbors= np.arange(1, 31, 2)\n",
    "    metric= [\"euclidean\", \"cityblock\"]\n",
    "    param_grid = {'n_neighbors': n_neighbors, 'metric' : metric}\n",
    "    grid_search = GridSearchCV(KNeighborsClassifier(), param_grid, cv=nfolds, n_jobs=-1)\n",
    "    return search_best_params(X, y, grid_search)\n",
    "\n",
    "# SVM\n",
    "def svc_param_selection(X, y, nfolds):\n",
    "    parameters = {'vect__ngram_range': [(1, 1), (1, 2)], 'tfidf__use_idf': (True, False)}\n",
    "    gs_clf = GridSearchCV(text_clf, parameters, n_jobs=-1)\n",
    "    gs_clf = gs_clf.fit(X_train, y_train)\n",
    "    print(\"Best score of \"+name+\" : \"+ str(gs_clf.best_score_))\n",
    "    print(\"Best params of \"+name+\" : \"+ str(gs_clf.best_params_))\n",
    "\n",
    "# Decision Tree\n",
    "def dt_param_selection(X, y, nfolds):\n",
    "    max_depth = np.arange(3, 10)\n",
    "    param_grid = {'max_depth': max_depth}\n",
    "    grid_search = GridSearchCV(tree.DecisionTreeClassifier(), param_grid, cv=nfolds)\n",
    "    return search_best_params(X, y, grid_search)"
   ]
  },
  {
   "cell_type": "code",
   "execution_count": null,
   "metadata": {},
   "outputs": [],
   "source": [
    "knn_param_selection(X_train, y_train, 10)"
   ]
  },
  {
   "cell_type": "code",
   "execution_count": null,
   "metadata": {
    "collapsed": true
   },
   "outputs": [],
   "source": []
  }
 ],
 "metadata": {
  "kernelspec": {
   "display_name": "Python 3",
   "language": "python",
   "name": "python3"
  },
  "language_info": {
   "codemirror_mode": {
    "name": "ipython",
    "version": 3
   },
   "file_extension": ".py",
   "mimetype": "text/x-python",
   "name": "python",
   "nbconvert_exporter": "python",
   "pygments_lexer": "ipython3",
   "version": "3.6.3"
  }
 },
 "nbformat": 4,
 "nbformat_minor": 2
}
