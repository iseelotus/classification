{
 "cells": [
  {
   "cell_type": "code",
   "execution_count": 1,
   "metadata": {
    "collapsed": true
   },
   "outputs": [],
   "source": [
    "import numpy as np\n",
    "\n",
    "import matplotlib.pyplot as plt\n",
    "from matplotlib.colors import ListedColormap\n",
    "\n",
    "from sklearn import datasets, metrics\n",
    "from sklearn.model_selection import train_test_split\n",
    "from sklearn.preprocessing import StandardScaler\n",
    "\n",
    "from sklearn.svm import SVC\n",
    "from sklearn.linear_model import SGDClassifier\n",
    "from sklearn.neighbors import KNeighborsClassifier\n",
    "from sklearn import tree\n",
    "from sklearn.neural_network import MLPClassifier\n",
    "from sklearn.naive_bayes import GaussianNB\n",
    "\n",
    "from sklearn.decomposition import PCA\n",
    "from matplotlib.colors import ListedColormap\n",
    "\n",
    "from time import time\n",
    "\n",
    "np.random.seed(42)"
   ]
  },
  {
   "cell_type": "code",
   "execution_count": 2,
   "metadata": {
    "collapsed": true
   },
   "outputs": [],
   "source": [
    "digits = datasets.load_digits()\n",
    "X_train, X_test, y_train, y_test = train_test_split(digits.data, digits.target, test_size=0.2, stratify=digits.target)"
   ]
  },
  {
   "cell_type": "code",
   "execution_count": null,
   "metadata": {
    "collapsed": true
   },
   "outputs": [],
   "source": [
    "print(digits.images.shape)"
   ]
  },
  {
   "cell_type": "code",
   "execution_count": 3,
   "metadata": {
    "collapsed": true
   },
   "outputs": [],
   "source": [
    "dict_classifiers = {\n",
    "    \"Nearest Neighbors\": KNeighborsClassifier(n_neighbors=5, weights='distance'),\n",
    "    \"Linear SVM\": SGDClassifier(),\n",
    "    \"Decision Tree\": tree.DecisionTreeClassifier(),\n",
    "    \"Naive Bayes\": GaussianNB(),\n",
    "    \"Neural Network\": MLPClassifier(alpha = 1)\n",
    "}"
   ]
  },
  {
   "cell_type": "code",
   "execution_count": 4,
   "metadata": {},
   "outputs": [
    {
     "name": "stdout",
     "output_type": "stream",
     "text": [
      "Accuracy of Nearest Neighbors : 0.983333333333\n",
      "Training time of Nearest Neighbors : 0.005032777786254883\n",
      "Testing time of Nearest Neighbors : 0.06562209129333496\n",
      "Accuracy of Linear SVM : 0.947222222222\n",
      "Training time of Linear SVM : 0.15979480743408203\n",
      "Testing time of Linear SVM : 0.0034601688385009766\n",
      "Accuracy of Decision Tree : 0.838888888889\n",
      "Training time of Decision Tree : 0.021347761154174805\n",
      "Testing time of Decision Tree : 0.00032901763916015625\n",
      "Accuracy of Naive Bayes : 0.811111111111\n",
      "Training time of Naive Bayes : 0.0034317970275878906\n",
      "Testing time of Naive Bayes : 0.0023131370544433594\n"
     ]
    },
    {
     "name": "stderr",
     "output_type": "stream",
     "text": [
      "/Users/yankangli/anaconda3/lib/python3.6/site-packages/sklearn/linear_model/stochastic_gradient.py:128: FutureWarning: max_iter and tol parameters have been added in <class 'sklearn.linear_model.stochastic_gradient.SGDClassifier'> in 0.19. If both are left unset, they default to max_iter=5 and tol=None. If tol is not None, max_iter defaults to max_iter=1000. From 0.21, default max_iter will be 1000, and default tol will be 1e-3.\n",
      "  \"and default tol will be 1e-3.\" % type(self), FutureWarning)\n"
     ]
    },
    {
     "name": "stdout",
     "output_type": "stream",
     "text": [
      "Accuracy of Neural Network : 0.983333333333\n",
      "Training time of Neural Network : 1.9955041408538818\n",
      "Testing time of Neural Network : 0.0009899139404296875\n"
     ]
    }
   ],
   "source": [
    "for name, classifier in dict_classifiers.items():\n",
    "    start_training = time()\n",
    "    classifier = classifier.fit(X_train, y_train)\n",
    "    end_training = time()\n",
    "    start_testing = time()\n",
    "    predicted = classifier.predict(X_test)\n",
    "    end_testing = time()\n",
    "    print(\"Accuracy of \"+ name + \" : \"+str(np.mean(predicted == y_test)))\n",
    "    print(\"Training time of \"+ name + \" : \"+str(end_training - start_training))\n",
    "    print(\"Testing time of \"+ name + \" : \"+str(end_testing - start_testing))"
   ]
  },
  {
   "cell_type": "code",
   "execution_count": null,
   "metadata": {
    "collapsed": true
   },
   "outputs": [],
   "source": [
    "pca = PCA(n_components=2)\n",
    "reduced_X_train_pca = pca.fit_transform(X_train)\n",
    "reduced_X_test_pca = pca.fit_transform(X_test)"
   ]
  },
  {
   "cell_type": "code",
   "execution_count": null,
   "metadata": {
    "collapsed": true
   },
   "outputs": [],
   "source": [
    "X_train"
   ]
  },
  {
   "cell_type": "code",
   "execution_count": null,
   "metadata": {
    "collapsed": true
   },
   "outputs": [],
   "source": [
    "knn_clf = KNeighborsClassifier(n_neighbors=5, weights='distance').fit(reduced_X_train_pca, y_train)\n",
    "svm_clf = SGDClassifier(max_iter=5, tol=None).fit(reduced_X_train_pca, y_train)\n",
    "dt_clf = tree.DecisionTreeClassifier().fit(reduced_X_train_pca, y_train)\n",
    "nb_clf = GaussianNB().fit(reduced_X_train_pca, y_train)\n",
    "nn_clf = MLPClassifier(alpha = 1).fit(reduced_X_train_pca, y_train)"
   ]
  },
  {
   "cell_type": "code",
   "execution_count": null,
   "metadata": {
    "collapsed": true
   },
   "outputs": [],
   "source": [
    "def draw_PCA(classifier, reduced_X_train_pca):\n",
    "    reduced_X_train_pca=reduced_X_train_pca[0:500]\n",
    "    reduced_y_train = y_train[0:500]\n",
    "\n",
    "    n_neighbors = 5\n",
    "    h = .02\n",
    "\n",
    "    colors_dark = ListedColormap(['black', 'blue', 'purple', 'yellow', 'white', 'red', \n",
    "                   'lime', 'cyan', 'orange', 'darkmagenta'])\n",
    "    colors_light = ListedColormap(['grey', 'royalblue', 'orchid', 'lightyellow', 'snow', 'lightsalmon', \n",
    "                    'honeydew', 'lightcyan', 'coral', 'magenta'])\n",
    "\n",
    "    classifier.fit(reduced_X_train_pca, reduced_y_train)\n",
    "    x_min, x_max = reduced_X_train_pca[:, 0].min() - 1, reduced_X_train_pca[:, 0].max() + 1\n",
    "    y_min, y_max = reduced_X_train_pca[:, 1].min() - 1, reduced_X_train_pca[:, 1].max() + 1\n",
    "    xx, yy = np.meshgrid(np.arange(x_min, x_max, h),\n",
    "                             np.arange(y_min, y_max, h))\n",
    "    # np.c_ functions similar to zip in dict, returns a 2D array if input are two 1D arrays\n",
    "    Z = classifier.predict(np.c_[xx.ravel(), yy.ravel()])\n",
    "\n",
    "    predicted = classifier.predict(reduced_X_test_pca)\n",
    "    print(\"Accuracy of \"+ str(classifier) + \" : \"+str(np.mean(predicted == y_test)))\n",
    "    \n",
    "    # Put the result into a color plot\n",
    "    Z = Z.reshape(xx.shape)\n",
    "    plt.figure()\n",
    "    plt.pcolormesh(xx, yy, Z, cmap=colors_light)\n",
    "\n",
    "    # Plot the training points\n",
    "    # A legend won't work for scatter plot because the scatter plot creates a single object \n",
    "    # and would only appear as a single item in a legend\n",
    "    plt.scatter(reduced_X_train_pca[:, 0], reduced_X_train_pca[:, 1], c=reduced_y_train, cmap=colors_light,\n",
    "                edgecolor='k',s=20)\n",
    "    plt.xlim(xx.min(), xx.max())\n",
    "    plt.ylim(yy.min(), yy.max())\n",
    "\n",
    "\n",
    "    plt.show()"
   ]
  },
  {
   "cell_type": "code",
   "execution_count": null,
   "metadata": {
    "collapsed": true
   },
   "outputs": [],
   "source": [
    "digits.target_names"
   ]
  },
  {
   "cell_type": "code",
   "execution_count": null,
   "metadata": {},
   "outputs": [],
   "source": [
    "# PCA+kNN\n",
    "\n",
    "draw_PCA(knn_clf, reduced_X_train_pca)"
   ]
  },
  {
   "cell_type": "code",
   "execution_count": null,
   "metadata": {
    "scrolled": true
   },
   "outputs": [],
   "source": [
    "#PCA + SVM\n",
    "\n",
    "draw_PCA(svm_clf, reduced_X_train_pca)"
   ]
  },
  {
   "cell_type": "code",
   "execution_count": null,
   "metadata": {},
   "outputs": [],
   "source": [
    "#PCA + DT\n",
    "\n",
    "draw_PCA(dt_clf, reduced_X_train_pca)"
   ]
  },
  {
   "cell_type": "code",
   "execution_count": null,
   "metadata": {},
   "outputs": [],
   "source": [
    "#PCA + NN\n",
    "draw_PCA(nn_clf, reduced_X_train_pca)"
   ]
  },
  {
   "cell_type": "code",
   "execution_count": null,
   "metadata": {},
   "outputs": [],
   "source": [
    "#PCA + NB\n",
    "draw_PCA(nb_clf, reduced_X_train_pca)"
   ]
  },
  {
   "cell_type": "code",
   "execution_count": null,
   "metadata": {
    "collapsed": true
   },
   "outputs": [],
   "source": []
  }
 ],
 "metadata": {
  "kernelspec": {
   "display_name": "Python 3",
   "language": "python",
   "name": "python3"
  },
  "language_info": {
   "codemirror_mode": {
    "name": "ipython",
    "version": 3
   },
   "file_extension": ".py",
   "mimetype": "text/x-python",
   "name": "python",
   "nbconvert_exporter": "python",
   "pygments_lexer": "ipython3",
   "version": "3.6.3"
  }
 },
 "nbformat": 4,
 "nbformat_minor": 2
}
